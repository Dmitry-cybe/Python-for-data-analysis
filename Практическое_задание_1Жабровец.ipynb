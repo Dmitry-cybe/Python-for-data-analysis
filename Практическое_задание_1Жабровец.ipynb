{
  "nbformat": 4,
  "nbformat_minor": 0,
  "metadata": {
    "colab": {
      "provenance": []
    },
    "kernelspec": {
      "name": "python3",
      "display_name": "Python 3"
    },
    "language_info": {
      "name": "python"
    }
  },
  "cells": [
    {
      "cell_type": "code",
      "execution_count": null,
      "metadata": {
        "colab": {
          "base_uri": "https://localhost:8080/"
        },
        "id": "tvKHzersy5Kv",
        "outputId": "53e1a10d-96ef-4f65-e2e6-16f29617d116"
      },
      "outputs": [
        {
          "output_type": "stream",
          "name": "stdout",
          "text": [
            "Обычный шоколадный батончик\n",
            "Шоколадный батончик, 100 рублей\n",
            "Шоколадный батончик, добавка: Сахар\n",
            "Шоколадный батончик, 100 рублей\n"
          ]
        }
      ],
      "source": [
        "class Chocolate:\n",
        "  def __init__(self, price: float, addition: str = None):\n",
        "    self.price = price\n",
        "    self.addition  = addition\n",
        "  def show_my_chocolate(self):\n",
        "      if self.addition:\n",
        "           print(f\"Шоколадный батончик, добавка: {self.addition}\")\n",
        "      else:\n",
        "          print(\"Обычный шоколадный батончик\")\n",
        "  def __str__(self):\n",
        "    if self.price > 0:\n",
        "      return f\"Шоколадный батончик, {self.price} рублей\"\n",
        "    else:\n",
        "      raise ValueError\n",
        "Chocolate1 = Chocolate(100)  # Создание экземпляра\n",
        "Chocolate1.show_my_chocolate()\n",
        "print(Chocolate1)\n",
        "Chocolate2 = Chocolate(100, \"Сахар\")  # Создание экземпляра\n",
        "Chocolate2.show_my_chocolate()\n",
        "print(Chocolate2)"
      ]
    }
  ]
}